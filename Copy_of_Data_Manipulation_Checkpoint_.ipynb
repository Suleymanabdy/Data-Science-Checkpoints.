{
  "nbformat": 4,
  "nbformat_minor": 0,
  "metadata": {
    "colab": {
      "provenance": [],
      "include_colab_link": true
    },
    "kernelspec": {
      "name": "python3",
      "display_name": "Python 3"
    },
    "language_info": {
      "name": "python"
    }
  },
  "cells": [
    {
      "cell_type": "markdown",
      "metadata": {
        "id": "view-in-github",
        "colab_type": "text"
      },
      "source": [
        "<a href=\"https://colab.research.google.com/github/Suleymanabdy/Data-Science-Checkpoints./blob/main/Copy_of_Data_Manipulation_Checkpoint_.ipynb\" target=\"_parent\"><img src=\"https://colab.research.google.com/assets/colab-badge.svg\" alt=\"Open In Colab\"/></a>"
      ]
    },
    {
      "cell_type": "code",
      "source": [
        "%load_ext sql\n",
        "%sql sqlite://\n",
        "\n"
      ],
      "metadata": {
        "id": "P1jHhNxjdJIw"
      },
      "execution_count": null,
      "outputs": []
    },
    {
      "cell_type": "code",
      "source": [
        "%%sql\n",
        "CREATE TABLE Vehicles (\n",
        "  LicensePlate VARCHAR(10) PRIMARY KEY,\n",
        "  Make VARCHAR(10),\n",
        "  Model VARCHAR(10),\n",
        "  Year INT,\n",
        "  Color VARCHAR(10),\n",
        "  VIN VARCHAR(20)\n",
        ");"
      ],
      "metadata": {
        "id": "T20I-K43d37L"
      },
      "execution_count": null,
      "outputs": []
    },
    {
      "cell_type": "code",
      "source": [
        "%%sql\n",
        "CREATE TABLE Drivers (\n",
        "  LicenseNumber VARCHAR(10) PRIMARY KEY,\n",
        "  FirstName VARCHAR(20),\n",
        "  LastName VARCHAR(20),\n",
        "  Phone VARCHAR(15),\n",
        "  Address VARCHAR(50),\n",
        "  City VARCHAR(20),\n",
        "  State VARCHAR(2),\n",
        "  ZipCode VARCHAR(10)\n",
        ");\n"
      ],
      "metadata": {
        "id": "w0CvFJnVenVm"
      },
      "execution_count": null,
      "outputs": []
    },
    {
      "cell_type": "code",
      "source": [
        "%%sql\n",
        "CREATE TABLE Trips (\n",
        "  VehicleID INT,\n",
        "  DriverID INT,\n",
        "  StartDate DATE,\n",
        "  EndDate DATE,\n",
        "  StartLocation VARCHAR(20),\n",
        "  EndLocation VARCHAR(20),\n",
        "  Distance INT\n",
        ");\n"
      ],
      "metadata": {
        "id": "tVxK6omzfVFj"
      },
      "execution_count": null,
      "outputs": []
    },
    {
      "cell_type": "code",
      "source": [
        "\n",
        "%%sql drop table Maintenance;"
      ],
      "metadata": {
        "id": "88qidOvageMZ"
      },
      "execution_count": null,
      "outputs": []
    },
    {
      "cell_type": "code",
      "source": [
        "%%sql\n",
        "\n",
        "CREATE TABLE Maintenance (\n",
        "  VehicleID INT,\n",
        "  MaintenanceDate DATE,\n",
        "  Description VARCHAR(50),\n",
        "  Cost DECIMAL(10, 2)\n",
        ");"
      ],
      "metadata": {
        "id": "EPMmJV3ziLyg"
      },
      "execution_count": null,
      "outputs": []
    },
    {
      "cell_type": "code",
      "source": [
        "%%sql\n",
        "INSERT INTO Vehicles (LicensePlate, Make, Model, Year, Color, VIN)\n",
        "VALUES ('ABC123', 'Toyota', 'Corolla', 2020, 'White', '1HGCM82633A004352'),\n",
        "       ('XYZ789', 'Ford', 'Fusion', 2018, 'Blue', '2HGCM82633A004353');"
      ],
      "metadata": {
        "id": "hp-vfqZojDhT"
      },
      "execution_count": null,
      "outputs": []
    },
    {
      "cell_type": "code",
      "source": [
        "%%sql\n",
        "INSERT INTO Drivers (LicenseNumber, FirstName, LastName, Phone, Address, City, State, ZipCode)\n",
        "VALUES ('D1234567', 'Michael', 'Smith', '1234567890', '123 Main St', 'Anytown', 'CA', '12345'),\n",
        "       ('D7654321', 'Sarah', 'Connor', '0987654321', '456 Elm St', 'Otherville', 'NY', '54321');"
      ],
      "metadata": {
        "id": "tyte0l3xjOWp"
      },
      "execution_count": null,
      "outputs": []
    },
    {
      "cell_type": "code",
      "source": [
        "%%sql\n",
        "\n",
        "INSERT INTO Trips (VehicleID, DriverID, StartDate, EndDate, StartLocation, EndLocation, Distance)\n",
        "VALUES (1, 1, '2024-07-01', '2024-07-02', 'Los Angeles', 'San Francisco', 380),\n",
        "       (2, 2, '2024-07-03', '2024-07-04', 'New York', 'Washington D.C.', 225);"
      ],
      "metadata": {
        "id": "1sHQH8a9jVYs"
      },
      "execution_count": null,
      "outputs": []
    },
    {
      "cell_type": "code",
      "source": [
        "%%sql\n",
        "INSERT INTO Maintenance (VehicleID, MaintenanceDate, Description, Cost)\n",
        "VALUES (1, '2024-06-15', 'Oil change', 50.00),\n",
        "       (2, '2024-06-20', 'Tire replacement', 300.00);"
      ],
      "metadata": {
        "id": "QVv2oKeAjb8-"
      },
      "execution_count": null,
      "outputs": []
    },
    {
      "cell_type": "code",
      "source": [
        "%%sql\n",
        "      UPDATE Maintenance\n",
        "SET Cost = 350.00\n",
        "WHERE VehicleID = 2 AND MaintenanceDate = '2024-06-20';"
      ],
      "metadata": {
        "id": "J_BOWa37j1yO"
      },
      "execution_count": null,
      "outputs": []
    },
    {
      "cell_type": "code",
      "source": [
        "%%sql\n",
        "DELETE FROM Vehicles\n",
        "WHERE  LicensePlate = 'ABC123';"
      ],
      "metadata": {
        "id": "wUS8rceYj7yi"
      },
      "execution_count": null,
      "outputs": []
    },
    {
      "cell_type": "code",
      "source": [
        "%%sql\n",
        "INSERT INTO Trips (VehicleID, DriverID, StartDate, EndDate, StartLocation, EndLocation, Distance)\n",
        "VALUES (2, 1, '2024-07-05', '2024-07-06', 'Boston', 'Philadelphia', 300);"
      ],
      "metadata": {
        "id": "AMZQjH3vkCSl"
      },
      "execution_count": null,
      "outputs": []
    },
    {
      "cell_type": "code",
      "source": [
        "%%sql\n",
        "UPDATE Vehicles\n",
        "SET Color = 'Red'\n",
        "WHERE LicensePlate = 'XYZ789';"
      ],
      "metadata": {
        "id": "U26JdddykHUj"
      },
      "execution_count": null,
      "outputs": []
    },
    {
      "cell_type": "code",
      "source": [
        "%%sql\n",
        "\n",
        "INSERT INTO Maintenance (VehicleID, MaintenanceDate, Description, Cost)\n",
        "VALUES (1, '2024-07-10', 'Brake inspection', 100.00);"
      ],
      "metadata": {
        "id": "B1n-OrvAkMHC"
      },
      "execution_count": null,
      "outputs": []
    },
    {
      "cell_type": "code",
      "source": [
        "%%sql\n",
        "UPDATE Drivers\n",
        "SET Phone = '2223334444'\n",
        "WHERE LicenseNumber = 'D1234567';"
      ],
      "metadata": {
        "id": "KmRCqOv9kRCY"
      },
      "execution_count": null,
      "outputs": []
    },
    {
      "cell_type": "code",
      "source": [
        "%%sql\n",
        "DELETE FROM Trips\n",
        "WHERE VehicleID = 2;"
      ],
      "metadata": {
        "id": "iBuf5D52kYFE"
      },
      "execution_count": null,
      "outputs": []
    }
  ]
}