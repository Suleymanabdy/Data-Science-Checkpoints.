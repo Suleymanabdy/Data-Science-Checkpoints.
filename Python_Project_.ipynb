{
  "nbformat": 4,
  "nbformat_minor": 0,
  "metadata": {
    "colab": {
      "provenance": [],
      "authorship_tag": "ABX9TyPmUOojs4pfIyaUNmDbJ1Ha",
      "include_colab_link": true
    },
    "kernelspec": {
      "name": "python3",
      "display_name": "Python 3"
    },
    "language_info": {
      "name": "python"
    }
  },
  "cells": [
    {
      "cell_type": "markdown",
      "metadata": {
        "id": "view-in-github",
        "colab_type": "text"
      },
      "source": [
        "<a href=\"https://colab.research.google.com/github/Suleymanabdy/Data-Science-Checkpoints./blob/main/Python_Project_.ipynb\" target=\"_parent\"><img src=\"https://colab.research.google.com/assets/colab-badge.svg\" alt=\"Open In Colab\"/></a>"
      ]
    },
    {
      "cell_type": "code",
      "source": [
        "import random\n",
        "import time\n",
        "\n",
        "def ask_question_with_timer(question, time_limit=10):\n",
        "    #Ask a question and return whether the answer is correct.\n",
        "    #The user has a limited amount of time to answer.\n",
        "\n",
        "    print(\"\\n\" + question[\"question\"])\n",
        "    for option in question[\"options\"]:\n",
        "        print(option)\n",
        "\n",
        "    start_time = time.time()\n",
        "\n",
        "    answer = input(\"Your answer (A/B/C/D): \").strip().upper()\n",
        "    elapsed_time = time.time() - start_time\n",
        "\n",
        "    if elapsed_time > time_limit:\n",
        "        print(\"Time's up! You didn't answer in time.\")\n",
        "        return False\n",
        "    elif answer != question[\"answer\"]:\n",
        "        print(f\"Wrong! The correct answer was: {question['answer']}\")\n",
        "        return False\n",
        "    else:\n",
        "        print(\"Correct!\")\n",
        "        return True\n",
        "\n",
        "def main():\n",
        "    \"\"\"Main function to run the quiz game.\"\"\"\n",
        "\n",
        "    print(\"Welcome to the Interactive Python Quiz Game!\")\n",
        "    print(\"You will be asked a series of questions. You have 10 seconds to answer each question.\")\n",
        "    print(\"Type your answer (A, B, C, or D).\\n\")\n",
        "\n",
        "    questions = [\n",
        "        {\n",
        "            \"question\": \"What is the capital of France?\",\n",
        "            \"options\": [\"A. Paris\", \"B. Rome\", \"C. Madrid\", \"D. Berlin\"],\n",
        "            \"answer\": \"A\"\n",
        "        },\n",
        "        {\n",
        "            \"question\": \"Which planet is known as the Red Planet?\",\n",
        "            \"options\": [\"A. Earth\", \"B. Mars\", \"C. Jupiter\", \"D. Saturn\"],\n",
        "            \"answer\": \"B\"\n",
        "        },\n",
        "        {\n",
        "            \"question\": \"What is the largest ocean on Earth?\",\n",
        "            \"options\": [\"A. Atlantic Ocean\", \"B. Indian Ocean\", \"C. Arctic Ocean\", \"D. Pacific Ocean\"],\n",
        "            \"answer\": \"D\"\n",
        "        },\n",
        "        {\n",
        "            \"question\": \"Who wrote 'Romeo and Juliet'?\",\n",
        "            \"options\": [\"A. Charles Dickens\", \"B. Mark Twain\", \"C. William Shakespeare\", \"D. J.K. Rowling\"],\n",
        "            \"answer\": \"C\"\n",
        "        }\n",
        "    ]\n",
        "\n",
        "    #Shuffling questions to randomize order\n",
        "    random.shuffle(questions)\n",
        "\n",
        "    score = 0\n",
        "    time_limit = 10  #seconds for each question\n",
        "\n",
        "    for question in questions:\n",
        "        if ask_question_with_timer(question, time_limit):\n",
        "            score += 1\n",
        "\n",
        "    print(f\"\\nYour final score is: {score}/{len(questions)}\")\n",
        "\n",
        "if __name__ == \"__main__\":\n",
        "    main()\n"
      ],
      "metadata": {
        "id": "5khsdWgle8OO"
      },
      "execution_count": null,
      "outputs": []
    }
  ]
}