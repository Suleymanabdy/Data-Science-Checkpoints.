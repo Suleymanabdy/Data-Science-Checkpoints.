{
  "nbformat": 4,
  "nbformat_minor": 0,
  "metadata": {
    "colab": {
      "provenance": [],
      "authorship_tag": "ABX9TyOEXlZKF8eoyopYd0hQfwY9",
      "include_colab_link": true
    },
    "kernelspec": {
      "name": "python3",
      "display_name": "Python 3"
    },
    "language_info": {
      "name": "python"
    }
  },
  "cells": [
    {
      "cell_type": "markdown",
      "metadata": {
        "id": "view-in-github",
        "colab_type": "text"
      },
      "source": [
        "<a href=\"https://colab.research.google.com/github/Suleymanabdy/Data-Science-Checkpoints./blob/main/bank_account_py.ipynb\" target=\"_parent\"><img src=\"https://colab.research.google.com/assets/colab-badge.svg\" alt=\"Open In Colab\"/></a>"
      ]
    },
    {
      "cell_type": "code",
      "source": [
        "#BANK CCOUNT WITHOUT A PROMPT"
      ],
      "metadata": {
        "id": "Crfeb-C5AB-Y"
      },
      "execution_count": null,
      "outputs": []
    },
    {
      "cell_type": "code",
      "source": [
        "# bank_account.py\n",
        "\n",
        "class Account:\n",
        "    def __init__(self, account_number, account_holder, account_balance=0.0):\n",
        "        self.account_number = account_number\n",
        "        self.account_holder = account_holder\n",
        "        self.account_balance = account_balance\n",
        "\n",
        "    def deposit(self, amount):\n",
        "        if amount > 0:\n",
        "            self.account_balance += amount\n",
        "            print(f\"Deposited {amount}. New balance: {self.account_balance}\")\n",
        "        else:\n",
        "            print(\"Deposit amount must be positive\")\n",
        "\n",
        "    def withdraw(self, amount):\n",
        "        if 0 < amount <= self.account_balance:\n",
        "            self.account_balance -= amount\n",
        "            print(f\"Withdrew {amount}. New balance: {self.account_balance}\")\n",
        "        else:\n",
        "            print(\"Insufficient funds or invalid amount\")\n",
        "\n",
        "    def check_balance(self):\n",
        "        return self.account_balance\n",
        "# Example:\n",
        "my_account = Account(\"123456789\", \"Suleiman Abdi\", 3000)\n",
        "print(f\"Account Holder: {my_account.account_holder}\")\n",
        "\n",
        "#Deposit\n",
        "my_account.deposit(1000)\n",
        "\n",
        "#Withdraw\n",
        "my_account.withdraw(500)\n",
        "\n",
        "#Check Balance\n",
        "print(f\"Current balance: {my_account.check_balance()}\")\n",
        "\n",
        "\n",
        "\n",
        "\n"
      ],
      "metadata": {
        "colab": {
          "base_uri": "https://localhost:8080/"
        },
        "id": "hO6EbeOloQUd",
        "outputId": "8ff0a12f-6444-4464-ce1b-09061fbaecb7"
      },
      "execution_count": null,
      "outputs": [
        {
          "output_type": "stream",
          "name": "stdout",
          "text": [
            "Account Holder: Suleiman Abdi\n",
            "Deposited 1000. New balance: 4000\n",
            "Withdrew 500. New balance: 3500\n",
            "Current balance: 3500\n"
          ]
        }
      ]
    },
    {
      "cell_type": "code",
      "source": [
        "#BANK ACCOUNT WITH PROMPT"
      ],
      "metadata": {
        "id": "DRd4XooHAkag"
      },
      "execution_count": null,
      "outputs": []
    },
    {
      "cell_type": "code",
      "source": [
        "class Account:\n",
        "    def __init__(self, account_number, account_holder, account_balance=0.0):\n",
        "        self.account_number = account_number\n",
        "        self.account_holder = account_holder\n",
        "        self.account_balance = account_balance\n",
        "\n",
        "    def deposit(self, amount):\n",
        "        if amount > 0:\n",
        "            self.account_balance += amount\n",
        "            print(f\"Deposited {amount}. New balance: {self.account_balance}\")\n",
        "        else:\n",
        "            print(\"Deposit amount must be positive\")\n",
        "\n",
        "    def withdraw(self, amount):\n",
        "        if 0 < amount <= self.account_balance:\n",
        "            self.account_balance -= amount\n",
        "            print(f\"Withdrew {amount}. New balance: {self.account_balance}\")\n",
        "        else:\n",
        "            print(\"Insufficient funds or invalid amount\")\n",
        "\n",
        "    def check_balance(self):\n",
        "        return self.account_balance\n",
        "\n",
        "    def user_menu(self):\n",
        "        while True:\n",
        "            print(\"\\nAccount Menu:\")\n",
        "            print(\"1. Check balance\")\n",
        "            print(\"2. Deposit\")\n",
        "            print(\"3. Withdraw\")\n",
        "            print(\"4. Exit\")\n",
        "            choice = input(\"Enter your choice: \")\n",
        "\n",
        "            if choice == '1':\n",
        "                print(f\"Current balance: {self.check_balance()}\")\n",
        "            elif choice == '2':\n",
        "                amount = float(input(\"Enter amount to deposit: \"))\n",
        "                self.deposit(amount)\n",
        "            elif choice == '3':\n",
        "                amount = float(input(\"Enter amount to withdraw: \"))\n",
        "                self.withdraw(amount)\n",
        "            elif choice == '4':\n",
        "                print(\"Exiting the account menu. Have a great day!\")\n",
        "                break\n",
        "            else:\n",
        "                print(\"Invalid choice. Please try again.\")\n",
        "\n",
        "# Example usage with input\n",
        "account_number = input(\"Enter account number: \")\n",
        "account_holder = input(\"Enter account holder name: \")\n",
        "account_balance = float(input(\"Enter initial account balance: \"))\n",
        "\n",
        "my_account = Account(account_number, account_holder, account_balance)\n",
        "\n",
        "# Start User menu\n",
        "my_account.user_menu()\n"
      ],
      "metadata": {
        "colab": {
          "base_uri": "https://localhost:8080/"
        },
        "id": "qGLumRwcPSfQ",
        "outputId": "cc59b380-db2e-458d-ac92-42857a0f074b"
      },
      "execution_count": null,
      "outputs": [
        {
          "output_type": "stream",
          "name": "stdout",
          "text": [
            "Enter account number: 20000\n",
            "Enter account holder name: swe\n",
            "Enter initial account balance: 30000\n",
            "\n",
            "Account Menu:\n",
            "1. Check balance\n",
            "2. Deposit\n",
            "3. Withdraw\n",
            "4. Exit\n",
            "Enter your choice: 2\n",
            "Enter amount to deposit: 10000\n",
            "Deposited 10000.0. New balance: 40000.0\n",
            "\n",
            "Account Menu:\n",
            "1. Check balance\n",
            "2. Deposit\n",
            "3. Withdraw\n",
            "4. Exit\n",
            "Enter your choice: 4\n",
            "Exiting the account menu. Have a great day!\n"
          ]
        }
      ]
    }
  ]
}