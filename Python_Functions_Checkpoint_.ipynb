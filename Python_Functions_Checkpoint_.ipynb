{
  "nbformat": 4,
  "nbformat_minor": 0,
  "metadata": {
    "colab": {
      "provenance": [],
      "authorship_tag": "ABX9TyPE496sIdwUA3x5T+KDJ7ze",
      "include_colab_link": true
    },
    "kernelspec": {
      "name": "python3",
      "display_name": "Python 3"
    },
    "language_info": {
      "name": "python"
    }
  },
  "cells": [
    {
      "cell_type": "markdown",
      "metadata": {
        "id": "view-in-github",
        "colab_type": "text"
      },
      "source": [
        "<a href=\"https://colab.research.google.com/github/Suleymanabdy/Data-Science-Checkpoints./blob/main/Python_Functions_Checkpoint_.ipynb\" target=\"_parent\"><img src=\"https://colab.research.google.com/assets/colab-badge.svg\" alt=\"Open In Colab\"/></a>"
      ]
    },
    {
      "cell_type": "code",
      "execution_count": null,
      "metadata": {
        "id": "08VWEWCYVMk5"
      },
      "outputs": [],
      "source": [
        "# Define basic mathematical functions\n",
        "def add(n1, n2):\n",
        "    return n1 + n2\n",
        "\n",
        "def subtract(n1, n2):\n",
        "    return n1 - n2\n",
        "\n",
        "def multiply(n1, n2):\n",
        "    return n1 * n2\n",
        "\n",
        "def divide(n1, n2):\n",
        "    if n2 != 0:\n",
        "        return n1 / n2\n",
        "    else:\n",
        "        return \"Error! Division by zero.\"\n",
        "\n",
        "# Dictionary to store operations\n",
        "operations = {\n",
        "    \"+\": add,\n",
        "    \"-\": subtract,\n",
        "    \"*\": multiply,\n",
        "    \"/\": divide\n",
        "}\n",
        "\n",
        "# Calculator function\n",
        "def calculator():\n",
        "    print(\"Welcome to the calculator program!\")\n",
        "\n",
        "    # Prompt user to input the first number\n",
        "    num1 = float(input(\"Enter the first number: \"))\n",
        "\n",
        "    # Print available operation symbols\n",
        "    for symbol in operations:\n",
        "        print(symbol)\n",
        "\n",
        "    should_continue = True\n",
        "\n",
        "    while should_continue:\n",
        "        # Prompt user to select an operation symbol\n",
        "        operation_symbol = input(\"Pick an operation: \")\n",
        "\n",
        "        # Prompt user to input the second number\n",
        "        num2 = float(input(\"Enter the next number: \"))\n",
        "\n",
        "        # Retrieve the function corresponding to the selected operation symbol\n",
        "        calculation_function = operations[operation_symbol]\n",
        "\n",
        "        # Perform the calculation\n",
        "        answer = calculation_function(num1, num2)\n",
        "\n",
        "        # Print the equation and the result\n",
        "        print(f\"{num1} {operation_symbol} {num2} = {answer}\")\n",
        "\n",
        "        # Ask the user if they want to continue with the result\n",
        "        if input(f\"Type 'y' to continue calculating with {answer}, or 'n' to start a new calculation: \") == 'y':\n",
        "            num1 = answer\n",
        "        else:\n",
        "            should_continue = False\n",
        "            calculator()\n",
        "\n",
        "# Start the calculator program\n",
        "calculator()\n"
      ]
    },
    {
      "cell_type": "code",
      "source": [
        "# Calculator function\n",
        "def calculator():\n",
        "    print(\"Welcome to the calculator program!\")\n",
        "\n",
        "    # Prompt user to input the first number\n",
        "    num1 = float(input(\"Enter the first number: \"))\n",
        "\n",
        "    # Print available operation symbols\n",
        "    for symbol in operations:\n",
        "        print(symbol)\n",
        "\n",
        "    should_continue = True\n",
        "\n",
        "    while should_continue:\n",
        "        # Prompt user to select an operation symbol\n",
        "        operation_symbol = input(\"Pick an operation: \")\n",
        "\n",
        "        # Prompt user to input the second number\n",
        "        num2 = float(input(\"Enter the next number: \"))\n",
        "\n",
        "        # Retrieve the function corresponding to the selected operation symbol\n",
        "        calculation_function = operations[operation_symbol]\n",
        "\n",
        "        # Perform the calculation\n",
        "        answer = calculation_function(num1, num2)\n",
        "\n",
        "        # Print the equation and the result\n",
        "        print(f\"{num1} {operation_symbol} {num2} = {answer}\")\n",
        "\n",
        "        # Ask the user if they want to continue with the result\n",
        "        if input(f\"Type 'y' to continue calculating with {answer}, or 'n' to start a new calculation or 'exit' to exit: \") == 'y':\n",
        "            num1 = answer\n",
        "        elif input(f\"Type 'y' to continue calculating with {answer}, or 'n' to start a new calculation or 'exit' to exit: \") == 'exit':\n",
        "          should_continue = False\n",
        "          print(\"Exiting\")\n",
        "          break\n",
        "        else:\n",
        "            should_continue = False\n",
        "            calculator()\n",
        "\n",
        "# Start the calculator program\n",
        "calculator()"
      ],
      "metadata": {
        "colab": {
          "base_uri": "https://localhost:8080/"
        },
        "id": "OkPhWq5jWgTJ",
        "outputId": "afc9d03d-0b5f-46e1-babb-3f2f66b7ed3a"
      },
      "execution_count": null,
      "outputs": [
        {
          "output_type": "stream",
          "name": "stdout",
          "text": [
            "Welcome to the calculator program!\n",
            "Enter the first number: 10\n",
            "+\n",
            "-\n",
            "*\n",
            "/\n",
            "Pick an operation: *\n",
            "Enter the next number: 30\n",
            "10.0 * 30.0 = 300.0\n",
            "Type 'y' to continue calculating with 300.0, or 'n' to start a new calculation or 'exit' to exit: exit\n",
            "Type 'y' to continue calculating with 300.0, or 'n' to start a new calculation or 'exit' to exit: exit\n",
            "Exiting\n"
          ]
        }
      ]
    }
  ]
}