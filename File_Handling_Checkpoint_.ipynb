{
  "nbformat": 4,
  "nbformat_minor": 0,
  "metadata": {
    "colab": {
      "provenance": [],
      "mount_file_id": "1iTytkq-rrXNgdP0gInXY-oETfsR62Y4P",
      "authorship_tag": "ABX9TyPjHX5VcqtMjrV1M5fRt2RC",
      "include_colab_link": true
    },
    "kernelspec": {
      "name": "python3",
      "display_name": "Python 3"
    },
    "language_info": {
      "name": "python"
    }
  },
  "cells": [
    {
      "cell_type": "markdown",
      "metadata": {
        "id": "view-in-github",
        "colab_type": "text"
      },
      "source": [
        "<a href=\"https://colab.research.google.com/github/Suleymanabdy/Data-Science-Checkpoints./blob/main/File_Handling_Checkpoint_.ipynb\" target=\"_parent\"><img src=\"https://colab.research.google.com/assets/colab-badge.svg\" alt=\"Open In Colab\"/></a>"
      ]
    },
    {
      "cell_type": "code",
      "source": [
        "#import numpy as np\n",
        "import numpy as np\n",
        "\n",
        "#File Path\n",
        "file_path='/content/drive/MyDrive/Colab Notebooks/Loan_prediction_dataset.csv'\n",
        "\n",
        "# Open the CSV file\n",
        "with open(file_path, 'r') as file:\n",
        "    print(file.read())\n",
        "data = np.genfromtxt(file_path, delimiter=',', skip_header=1)"
      ],
      "metadata": {
        "id": "E9tjXT4n81dt"
      },
      "execution_count": null,
      "outputs": []
    },
    {
      "cell_type": "code",
      "source": [
        "\n",
        "#Extracting loan amount column\n",
        "loan_amounts = data[:, 8]\n",
        "\n",
        "#This removes the NaN values\n",
        "loan_amounts = loan_amounts[~np.isnan(loan_amounts)]\n",
        "\n",
        "#mean, median, and standard deviation of loan amounts\n",
        "mean_loan_amount = np.mean(loan_amounts)\n",
        "median_loan_amount = np.median(loan_amounts)\n",
        "std_dev_loan_amount = np.std(loan_amounts)\n",
        "\n",
        "print(f\"Mean Loan Amount: {mean_loan_amount}\")\n",
        "print(f\"Median Loan Amount: {median_loan_amount}\")\n",
        "print(f\"Standard Deviation of Loan Amounts: {std_dev_loan_amount}\")"
      ],
      "metadata": {
        "id": "K0WjQFXnWOzA"
      },
      "execution_count": null,
      "outputs": []
    }
  ]
}