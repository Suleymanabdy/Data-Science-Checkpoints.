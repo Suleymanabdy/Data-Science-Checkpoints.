{
  "nbformat": 4,
  "nbformat_minor": 0,
  "metadata": {
    "colab": {
      "provenance": [],
      "authorship_tag": "ABX9TyN/dn4SnnvqOu046NV0mYJP",
      "include_colab_link": true
    },
    "kernelspec": {
      "name": "python3",
      "display_name": "Python 3"
    },
    "language_info": {
      "name": "python"
    }
  },
  "cells": [
    {
      "cell_type": "markdown",
      "metadata": {
        "id": "view-in-github",
        "colab_type": "text"
      },
      "source": [
        "<a href=\"https://colab.research.google.com/github/Suleymanabdy/Data-Science-Checkpoints./blob/main/Dataframe_Filtering_and_Selection_using_iloc_and_loc_.ipynb\" target=\"_parent\"><img src=\"https://colab.research.google.com/assets/colab-badge.svg\" alt=\"Open In Colab\"/></a>"
      ]
    },
    {
      "cell_type": "code",
      "execution_count": null,
      "metadata": {
        "id": "kwvj3L0-8Tuy"
      },
      "outputs": [],
      "source": [
        "#Import Pandas and Creating Data Frames\n",
        "import pandas as pd\n",
        "\n",
        "data = {'Name': ['John', 'Mary', 'Bob', 'Sarah', 'Tom', 'Lisa'],\n",
        "        'Department': ['IT', 'Marketing', 'Sales', 'IT', 'Finance', 'Marketing'],\n",
        "        'Age': [30, 40, 25, 35, 45, 28],\n",
        "        'Gender': ['Male', 'Female', 'Male', 'Female', 'Male', 'Female'],\n",
        "        'Salary': [50000, 60000, 45000, 55000, 70000, 55000],\n",
        "        'Experience': [3, 7, 2, 5, 10, 4]}\n",
        "\n",
        "employee_df = pd.DataFrame(data)\n"
      ]
    },
    {
      "cell_type": "code",
      "source": [
        "#Use the iloc method to select the first 3 rows of the dataframe.\n",
        "print(employee_df.iloc[0:3])"
      ],
      "metadata": {
        "colab": {
          "base_uri": "https://localhost:8080/"
        },
        "id": "fFgOzYl39QQi",
        "outputId": "3cd21229-5df7-4783-8abb-95b6cb7c71ed"
      },
      "execution_count": null,
      "outputs": [
        {
          "output_type": "stream",
          "name": "stdout",
          "text": [
            "   Name Department  Age  Gender  Salary  Experience\n",
            "0  John         IT   30    Male   50000           3\n",
            "1  Mary  Marketing   40  Female   60000           7\n",
            "2   Bob      Sales   25    Male   45000           2\n"
          ]
        }
      ]
    },
    {
      "cell_type": "code",
      "source": [
        "#Use the loc method to select all rows where the Department is \"Marketing\".\n",
        "print(employee_df.loc[employee_df['Department'] == 'Marketing'])"
      ],
      "metadata": {
        "colab": {
          "base_uri": "https://localhost:8080/"
        },
        "id": "nVJcWuNn9S9M",
        "outputId": "d28e60ec-a04f-4b47-b08b-e6b0dc67cf8c"
      },
      "execution_count": null,
      "outputs": [
        {
          "output_type": "stream",
          "name": "stdout",
          "text": [
            "   Name Department  Age  Gender  Salary  Experience\n",
            "1  Mary  Marketing   40  Female   60000           7\n",
            "5  Lisa  Marketing   28  Female   55000           4\n"
          ]
        }
      ]
    },
    {
      "cell_type": "code",
      "source": [
        "#Use the iloc method to select the Age and Gender columns for the first 4 rows of the dataframe.\n",
        "print(employee_df.iloc[0:4, [2, 3]])"
      ],
      "metadata": {
        "colab": {
          "base_uri": "https://localhost:8080/"
        },
        "id": "8d3r-_zZ9U-4",
        "outputId": "d7026c33-8b88-4e1d-d8d7-a01716595068"
      },
      "execution_count": null,
      "outputs": [
        {
          "output_type": "stream",
          "name": "stdout",
          "text": [
            "   Age  Gender\n",
            "0   30    Male\n",
            "1   40  Female\n",
            "2   25    Male\n",
            "3   35  Female\n"
          ]
        }
      ]
    },
    {
      "cell_type": "code",
      "source": [
        "#Use the loc method to select the Salary and Experience columns for all rows where the Gender is \"Male\".\n",
        "print(employee_df.loc[employee_df['Gender'] == 'Male', ['Salary', 'Experience']])"
      ],
      "metadata": {
        "colab": {
          "base_uri": "https://localhost:8080/"
        },
        "id": "6mIdr20-96zu",
        "outputId": "322f604a-68fe-44e8-b921-6ffa78ef7edb"
      },
      "execution_count": null,
      "outputs": [
        {
          "output_type": "stream",
          "name": "stdout",
          "text": [
            "   Salary  Experience\n",
            "0   50000           3\n",
            "2   45000           2\n",
            "4   70000          10\n"
          ]
        }
      ]
    }
  ]
}