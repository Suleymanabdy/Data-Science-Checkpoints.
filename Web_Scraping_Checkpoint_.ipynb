{
  "nbformat": 4,
  "nbformat_minor": 0,
  "metadata": {
    "colab": {
      "provenance": [],
      "authorship_tag": "ABX9TyMmUpcaCbzE/42gQL7oQtAS",
      "include_colab_link": true
    },
    "kernelspec": {
      "name": "python3",
      "display_name": "Python 3"
    },
    "language_info": {
      "name": "python"
    }
  },
  "cells": [
    {
      "cell_type": "markdown",
      "metadata": {
        "id": "view-in-github",
        "colab_type": "text"
      },
      "source": [
        "<a href=\"https://colab.research.google.com/github/Suleymanabdy/Data-Science-Checkpoints./blob/main/Web_Scraping_Checkpoint_.ipynb\" target=\"_parent\"><img src=\"https://colab.research.google.com/assets/colab-badge.svg\" alt=\"Open In Colab\"/></a>"
      ]
    },
    {
      "cell_type": "code",
      "execution_count": null,
      "metadata": {
        "colab": {
          "base_uri": "https://localhost:8080/"
        },
        "id": "PIfkVU8hYhN1",
        "outputId": "0726b195-208b-4545-a782-87e0dff31145"
      },
      "outputs": [
        {
          "output_type": "stream",
          "name": "stdout",
          "text": [
            "Requirement already satisfied: requests in /usr/local/lib/python3.10/dist-packages (2.32.3)\n",
            "Requirement already satisfied: beautifulsoup4 in /usr/local/lib/python3.10/dist-packages (4.12.3)\n",
            "Requirement already satisfied: charset-normalizer<4,>=2 in /usr/local/lib/python3.10/dist-packages (from requests) (3.3.2)\n",
            "Requirement already satisfied: idna<4,>=2.5 in /usr/local/lib/python3.10/dist-packages (from requests) (3.10)\n",
            "Requirement already satisfied: urllib3<3,>=1.21.1 in /usr/local/lib/python3.10/dist-packages (from requests) (2.2.3)\n",
            "Requirement already satisfied: certifi>=2017.4.17 in /usr/local/lib/python3.10/dist-packages (from requests) (2024.8.30)\n",
            "Requirement already satisfied: soupsieve>1.2 in /usr/local/lib/python3.10/dist-packages (from beautifulsoup4) (2.6)\n"
          ]
        }
      ],
      "source": [
        "#Installing the required library\n",
        "!pip install requests beautifulsoup4\n",
        "import requests\n",
        "from bs4 import BeautifulSoup\n"
      ]
    },
    {
      "cell_type": "code",
      "source": [
        "#Getting and Parsing HTML Content\n",
        "def get_html_content(url):\n",
        "    response = requests.get(url)\n",
        "    response.raise_for_status()  # Check for request errors\n",
        "    return BeautifulSoup(response.text, 'html.parser')\n"
      ],
      "metadata": {
        "id": "X3CPGnENY8Gp"
      },
      "execution_count": null,
      "outputs": []
    },
    {
      "cell_type": "code",
      "source": [
        "#Extracting Article Title\n",
        "def extract_title(soup):\n",
        "    return soup.find('h1').text\n"
      ],
      "metadata": {
        "id": "wZokP14PZDW6"
      },
      "execution_count": null,
      "outputs": []
    },
    {
      "cell_type": "code",
      "source": [
        "#Extracting Article Text with Headings\n",
        "def extract_text_with_headings(soup):\n",
        "    content = {}\n",
        "    for heading in soup.find_all(['h2', 'h3']):\n",
        "        heading_text = heading.text.strip()\n",
        "        paragraphs = heading.find_all_next('p')\n",
        "\n",
        "        #Collect paragraphs until the next heading\n",
        "        text_content = []\n",
        "        for para in paragraphs:\n",
        "            if para.name in ['h2', 'h3']:\n",
        "                break\n",
        "            text_content.append(para.text.strip())\n",
        "\n",
        "        if text_content:\n",
        "            content[heading_text] = ' '.join(text_content)\n",
        "\n",
        "    return content\n"
      ],
      "metadata": {
        "id": "_P0_3kVKZGbz"
      },
      "execution_count": null,
      "outputs": []
    },
    {
      "cell_type": "code",
      "source": [
        "#Collecting Links\n",
        "def collect_wikipedia_links(soup):\n",
        "    links = []\n",
        "    for link in soup.find_all('a'):\n",
        "        href = link.get('href')\n",
        "        if href and href.startswith('/wiki/') and not href.startswith('/wiki/File:'):\n",
        "            links.append('https://en.wikipedia.org' + href)\n",
        "    return links\n"
      ],
      "metadata": {
        "id": "kRf7ueBDZzgl"
      },
      "execution_count": null,
      "outputs": []
    },
    {
      "cell_type": "code",
      "source": [
        "#Wrapping Functions\n",
        "def scrape_wikipedia_page(url):\n",
        "    soup = get_html_content(url)\n",
        "    title = extract_title(soup)\n",
        "    text_with_headings = extract_text_with_headings(soup)\n",
        "    links = collect_wikipedia_links(soup)\n",
        "\n",
        "    return {\n",
        "        'title': title,\n",
        "        'text_with_headings': text_with_headings,\n",
        "        'links': links\n",
        "    }\n"
      ],
      "metadata": {
        "id": "toeYam8uZ3ma"
      },
      "execution_count": null,
      "outputs": []
    },
    {
      "cell_type": "code",
      "source": [
        "\n",
        "if __name__ == \"__main__\":\n",
        "    url = \"https://en.wikipedia.org/wiki/Artificial_intelligence\"\n",
        "    result = scrape_wikipedia_page(url)\n",
        "\n",
        "    print(\"Title:\", result['title'])\n",
        "    print(\"\\nText with Headings:\")\n",
        "    for heading, text in result['text_with_headings'].items():\n",
        " #Printing first 200 chars of text\n",
        "        print(f\"{heading}: {text[:100]}...\")\n",
        " #Printing first 5 links\n",
        "    print(\"\\nLinks:\", result['links'][:5])"
      ],
      "metadata": {
        "colab": {
          "base_uri": "https://localhost:8080/"
        },
        "id": "2NV8dgsuZ65L",
        "outputId": "1a808954-8731-4612-b0f7-e51b217ea7ec"
      },
      "execution_count": null,
      "outputs": [
        {
          "output_type": "stream",
          "name": "stdout",
          "text": [
            "Title: Artificial intelligence\n",
            "\n",
            "Text with Headings:\n",
            "Contents:  Artificial intelligence (AI), in its broadest sense, is intelligence exhibited by machines, particularly computer systems. It is a field of research in computer science that develops and studies meth...\n",
            "Goals: The general problem of simulating (or creating) intelligence has been broken into subproblems. These consist of particular traits or capabilities that researchers expect an intelligent system to displ...\n",
            "Reasoning and problem-solving: Early researchers developed algorithms that imitated step-by-step reasoning that humans use when they solve puzzles or make logical deductions.[13] By the late 1980s and 1990s, methods were developed ...\n",
            "Knowledge representation: Knowledge representation and knowledge engineering[17] allow AI programs to answer questions intelligently and make deductions about real-world facts. Formal knowledge representations are used in cont...\n",
            "Planning and decision-making: An \"agent\" is anything that perceives and takes actions in the world. A rational agent has goals or preferences and takes actions to make them happen.[d][32] In automated planning, the agent has a spe...\n",
            "Learning: Machine learning is the study of programs that can improve their performance on a given task automatically.[41] It has been a part of AI from the beginning.[e] There are several kinds of machine learn...\n",
            "Natural language processing: Natural language processing (NLP)[50] allows programs to read, write and communicate in human languages such as English. Specific problems include speech recognition, speech synthesis, machine transla...\n",
            "Perception: Machine perception is the ability to use input from sensors (such as cameras, microphones, wireless signals, active lidar, sonar, radar, and tactile sensors) to deduce aspects of the world. Computer v...\n",
            "Social intelligence: Affective computing is an interdisciplinary umbrella that comprises systems that recognize, interpret, process, or simulate human feeling, emotion, and mood.[65] For example, some virtual assistants a...\n",
            "General intelligence: A machine with artificial general intelligence should be able to solve a wide variety of problems with breadth and versatility similar to human intelligence.[4] AI research uses a wide variety of tech...\n",
            "Techniques: AI research uses a wide variety of techniques to accomplish the goals above.[b] AI can solve many problems by intelligently searching through many possible solutions.[68] There are two very different ...\n",
            "Search and optimization: AI can solve many problems by intelligently searching through many possible solutions.[68] There are two very different kinds of search used in AI: state space search and local search. State space sea...\n",
            "Logic: Formal logic is used for reasoning and knowledge representation.[78]\n",
            "Formal logic comes in two main forms: propositional logic (which operates on statements that are true or false and uses logical con...\n",
            "Probabilistic methods for uncertain reasoning: Many problems in AI (including in reasoning, planning, learning, perception, and robotics) require the agent to operate with incomplete or uncertain information. AI researchers have devised a number o...\n",
            "Classifiers and statistical learning methods: The simplest AI applications can be divided into two types: classifiers (e.g., \"if shiny then diamond\"), on one hand, and controllers (e.g., \"if diamond then pick up\"), on the other hand. Classifiers[...\n",
            "Artificial neural networks: An artificial neural network is based on a collection of nodes also known as artificial neurons, which loosely model the neurons in a biological brain. It is trained to recognise patterns; once traine...\n",
            "Deep learning: Deep learning[110] uses several layers of neurons between the network's inputs and outputs. The multiple layers can progressively extract higher-level features from the raw input. For example, in imag...\n",
            "GPT: Generative pre-trained transformers (GPT) are large language models (LLMs) that generate text based on the semantic relationships between words in sentences. Text-based GPT models are pretrained on a ...\n",
            "Hardware and software: In the late 2010s, graphics processing units (GPUs) that were increasingly designed with AI-specific enhancements and used with specialized TensorFlow software had replaced previously used central pro...\n",
            "Applications: AI and machine learning technology is used in most of the essential applications of the 2020s, including: search engines (such as Google Search), targeting online advertisements, recommendation system...\n",
            "Health and medicine: The application of AI in medicine and medical research has the potential to increase patient care and quality of life.[130] Through the lens of the Hippocratic Oath, medical professionals are ethicall...\n",
            "Games: Game playing programs have been used since the 1950s to demonstrate and test AI's most advanced techniques.[138] Deep Blue became the first computer chess-playing system to beat a reigning world chess...\n",
            "Mathematics: In mathematics, special forms of formal step-by-step reasoning are used. In contrast, LLMs such as GPT-4 Turbo, Gemini Ultra, Claude Opus, LLaMa-2 or Mistral Large are working with probabilistic model...\n",
            "Finance: Finance is one of the fastest growing sectors where applied AI tools are being deployed: from retail online banking to investment advice and insurance, where automated \"robot advisers\" have been in us...\n",
            "Military: Various countries are deploying AI military applications.[155] The main applications enhance command and control, communications, sensors, integration and interoperability.[156] Research is targeting ...\n",
            "Generative AI: In the early 2020s, generative AI gained widespread prominence. GenAI is AI capable of generating text, images, videos, or other data using generative models,[158][159] often in response to prompts.[1...\n",
            "Agents: Artificial intelligent (AI) agents are software entities designed to perceive their environment, make decisions, and take actions autonomously to achieve specific goals. These agents can interact with...\n",
            "Other industry-specific tasks: There are also thousands of successful AI applications used to solve specific problems for specific industries or institutions. In a 2017 survey, one in five companies reported having incorporated \"AI...\n",
            "Ethics: AI has potential benefits and potential risks.[172] AI may be able to advance science and find solutions for serious problems: Demis Hassabis of Deep Mind hopes to \"solve intelligence, and then use th...\n",
            "Risks and harm: Machine learning algorithms require large amounts of data. The techniques used to acquire this data have raised concerns about privacy, surveillance and copyright. AI-powered devices and services, suc...\n",
            "Ethical machines and alignment: Friendly AI are machines that have been designed from the beginning to minimize risks and to make choices that benefit humans. Eliezer Yudkowsky, who coined the term, argues that developing friendly A...\n",
            "Open source: Active organizations in the AI open-source community include Hugging Face,[274] Google,[275] EleutherAI and Meta.[276] Various AI models, such as Llama 2, Mistral or Stable Diffusion, have been made o...\n",
            "Frameworks: Artificial Intelligence projects can have their ethical permissibility tested while designing, developing, and implementing an AI system. An AI framework such as the Care and Act Framework containing ...\n",
            "Regulation: The regulation of artificial intelligence is the development of public sector policies and laws for promoting and regulating AI; it is therefore related to the broader regulation of algorithms.[287] T...\n",
            "History: The study of mechanical or \"formal\" reasoning began with philosophers and mathematicians in antiquity. The study of logic led directly to Alan Turing's theory of computation, which suggested that a ma...\n",
            "Philosophy: Philosophical debates have historically sought to determine the nature of intelligence and how to make intelligent machines.[338] Another major focus has been whether machines can be conscious, and th...\n",
            "Defining artificial intelligence: Alan Turing wrote in 1950 \"I propose to consider the question 'can machines think'?\"[341] He advised changing the question from whether a machine \"thinks\", to \"whether or not it is possible for machin...\n",
            "Evaluating approaches to AI: No established unifying theory or paradigm has guided AI research for most of its history.[aa] The unprecedented success of statistical machine learning in the 2010s eclipsed all other approaches (so ...\n",
            "Machine consciousness, sentience, and mind: The philosophy of mind does not know whether a machine can have a mind, consciousness and mental states, in the same sense that human beings do. This issue considers the internal experiences of the ma...\n",
            "Future: A superintelligence is a hypothetical agent that would possess intelligence far surpassing that of the brightest and most gifted human mind.[361]If research into artificial general intelligence produc...\n",
            "Superintelligence and the singularity: A superintelligence is a hypothetical agent that would possess intelligence far surpassing that of the brightest and most gifted human mind.[361]If research into artificial general intelligence produc...\n",
            "Transhumanism: Robot designer Hans Moravec, cyberneticist Kevin Warwick and inventor Ray Kurzweil have predicted that humans and machines may merge in the future into cyborgs that are more capable and powerful than ...\n",
            "In fiction: Thought-capable artificial beings have appeared as storytelling devices since antiquity,[381] and have been a persistent theme in science fiction.[382] A common trope in these works began with Mary Sh...\n",
            "See also: The two most widely used textbooks in 2023 (see the Open Syllabus): These were the four of the most widely used AI textbooks in 2008: Other textbooks:...\n",
            "Explanatory notes: The two most widely used textbooks in 2023 (see the Open Syllabus): These were the four of the most widely used AI textbooks in 2008: Other textbooks:...\n",
            "References: The two most widely used textbooks in 2023 (see the Open Syllabus): These were the four of the most widely used AI textbooks in 2008: Other textbooks:...\n",
            "AI textbooks: The two most widely used textbooks in 2023 (see the Open Syllabus): These were the four of the most widely used AI textbooks in 2008: Other textbooks:...\n",
            "\n",
            "Links: ['https://en.wikipedia.org/wiki/Main_Page', 'https://en.wikipedia.org/wiki/Wikipedia:Contents', 'https://en.wikipedia.org/wiki/Portal:Current_events', 'https://en.wikipedia.org/wiki/Special:Random', 'https://en.wikipedia.org/wiki/Wikipedia:About']\n"
          ]
        }
      ]
    }
  ]
}