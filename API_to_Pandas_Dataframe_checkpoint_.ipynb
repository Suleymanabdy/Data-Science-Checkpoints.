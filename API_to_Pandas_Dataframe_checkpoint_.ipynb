{
  "nbformat": 4,
  "nbformat_minor": 0,
  "metadata": {
    "colab": {
      "provenance": [],
      "authorship_tag": "ABX9TyMkX1rJw2jPdoO4Do++Rd9Z",
      "include_colab_link": true
    },
    "kernelspec": {
      "name": "python3",
      "display_name": "Python 3"
    },
    "language_info": {
      "name": "python"
    }
  },
  "cells": [
    {
      "cell_type": "markdown",
      "metadata": {
        "id": "view-in-github",
        "colab_type": "text"
      },
      "source": [
        "<a href=\"https://colab.research.google.com/github/Suleymanabdy/Data-Science-Checkpoints./blob/main/API_to_Pandas_Dataframe_checkpoint_.ipynb\" target=\"_parent\"><img src=\"https://colab.research.google.com/assets/colab-badge.svg\" alt=\"Open In Colab\"/></a>"
      ]
    },
    {
      "cell_type": "code",
      "execution_count": null,
      "metadata": {
        "colab": {
          "base_uri": "https://localhost:8080/"
        },
        "id": "LrMY2-J024f-",
        "outputId": "f7183238-4733-4c78-8299-2c73775570d5"
      },
      "outputs": [
        {
          "output_type": "stream",
          "name": "stdout",
          "text": [
            "Requirement already satisfied: requests in /usr/local/lib/python3.10/dist-packages (2.32.3)\n",
            "Requirement already satisfied: charset-normalizer<4,>=2 in /usr/local/lib/python3.10/dist-packages (from requests) (3.4.1)\n",
            "Requirement already satisfied: idna<4,>=2.5 in /usr/local/lib/python3.10/dist-packages (from requests) (3.10)\n",
            "Requirement already satisfied: urllib3<3,>=1.21.1 in /usr/local/lib/python3.10/dist-packages (from requests) (2.3.0)\n",
            "Requirement already satisfied: certifi>=2017.4.17 in /usr/local/lib/python3.10/dist-packages (from requests) (2024.12.14)\n"
          ]
        }
      ],
      "source": [
        "!pip install requests"
      ]
    },
    {
      "cell_type": "code",
      "source": [
        "import requests"
      ],
      "metadata": {
        "id": "rHyjEgBa9KmC"
      },
      "execution_count": null,
      "outputs": []
    },
    {
      "cell_type": "code",
      "source": [
        "#Storing API key\n",
        "api_key = 'lYguoK43IGvy17rRIt8T4dqBduJs3SEkqYR2f9DZ'"
      ],
      "metadata": {
        "id": "K3W0T5En9SjA"
      },
      "execution_count": null,
      "outputs": []
    },
    {
      "cell_type": "code",
      "source": [
        "# Get the Astronomy picture of the day and then display the image on your notebook\n",
        "apod_url = f\"https://api.nasa.gov/planetary/apod?api_key={api_key}\"\n",
        "response = requests.get(apod_url)\n",
        "\n",
        "# Check if the request was successful\n",
        "if response.status_code == 200:\n",
        "    apod_data = response.json()\n",
        "    # Display the image URL and title of the APOD\n",
        "    print(\"Title:\", apod_data['title'])\n",
        "    print(\"Image URL:\", apod_data['url'])\n",
        "else:\n",
        "    print(\"Error fetching the Astronomy Picture of the Day\")\n"
      ],
      "metadata": {
        "colab": {
          "base_uri": "https://localhost:8080/"
        },
        "id": "_gTdaOWi9ahQ",
        "outputId": "7aae4d8a-ded1-4aef-aa40-13412877554f"
      },
      "execution_count": null,
      "outputs": [
        {
          "output_type": "stream",
          "name": "stdout",
          "text": [
            "Title: Comet ATLAS Before Sunrise\n",
            "Image URL: https://apod.nasa.gov/apod/image/2501/CometAtlas_Horalek_960_inset.jpg\n"
          ]
        }
      ]
    },
    {
      "cell_type": "code",
      "source": [
        "from IPython.display import Image, display\n",
        "\n",
        "# Get the image URL from the APOD data\n",
        "image_url = apod_data['url']\n",
        "\n",
        "# Display the image\n",
        "display(Image(url=image_url))\n"
      ],
      "metadata": {
        "colab": {
          "base_uri": "https://localhost:8080/",
          "height": 1000
        },
        "id": "5dT4nq8M9nMI",
        "outputId": "24c9a7f9-5923-418d-944b-616c036464b6"
      },
      "execution_count": null,
      "outputs": [
        {
          "output_type": "display_data",
          "data": {
            "text/html": [
              "<img src=\"https://apod.nasa.gov/apod/image/2501/CometAtlas_Horalek_960_inset.jpg\"/>"
            ],
            "text/plain": [
              "<IPython.core.display.Image object>"
            ]
          },
          "metadata": {}
        }
      ]
    },
    {
      "cell_type": "code",
      "source": [
        "# list the provided API endpoints\n",
        "# Fetch asteroid data\n",
        "asteroids_url = f\"https://api.nasa.gov/neo/rest/v1/feed?api_key={api_key}\"\n",
        "asteroids_response = requests.get(asteroids_url)\n",
        "\n",
        "# Check if the request was successful\n",
        "if asteroids_response.status_code == 200:\n",
        "    asteroids_data = asteroids_response.json()\n",
        "    # Extract asteroid details\n",
        "    asteroids_list = asteroids_data['near_earth_objects']\n",
        "else:\n",
        "    print(\"Error fetching Asteroids data\")\n"
      ],
      "metadata": {
        "id": "F3EeydCL9q-L"
      },
      "execution_count": null,
      "outputs": []
    },
    {
      "cell_type": "code",
      "source": [
        "import pandas as pd\n",
        "\n",
        "# Extract asteroid data from the response\n",
        "asteroid_details = []\n",
        "for date in asteroids_list:\n",
        "    for asteroid in asteroids_list[date]:\n",
        "        asteroid_data = {\n",
        "            'Asteroid ID': asteroid['id'],\n",
        "            'Asteroid name': asteroid['name'],\n",
        "            'Minimal estimated diameter (km)': asteroid['estimated_diameter']['kilometers']['estimated_diameter_min'],\n",
        "            'Absolute magnitude': asteroid['absolute_magnitude_h'],\n",
        "            'Relative velocity (km/s)': asteroid['close_approach_data'][0]['relative_velocity']['kilometers_per_second']\n",
        "        }\n",
        "        asteroid_details.append(asteroid_data)\n",
        "\n",
        "# Create a DataFrame\n",
        "df_asteroids = pd.DataFrame(asteroid_details)\n",
        "\n",
        "# Clean the DataFrame\n",
        "df_asteroids['Minimal estimated diameter (km)'] = pd.to_numeric(df_asteroids['Minimal estimated diameter (km)'], errors='coerce')\n",
        "df_asteroids['Absolute magnitude'] = pd.to_numeric(df_asteroids['Absolute magnitude'], errors='coerce')\n",
        "df_asteroids['Relative velocity (km/s)'] = pd.to_numeric(df_asteroids['Relative velocity (km/s)'], errors='coerce')\n",
        "\n",
        "# Display the cleaned DataFrame\n",
        "df_asteroids.head()\n"
      ],
      "metadata": {
        "colab": {
          "base_uri": "https://localhost:8080/",
          "height": 206
        },
        "id": "Rg4s3GEd9u3K",
        "outputId": "1d69f26b-b088-411f-c454-87523983e0bc"
      },
      "execution_count": null,
      "outputs": [
        {
          "output_type": "execute_result",
          "data": {
            "text/plain": [
              "  Asteroid ID Asteroid name  Minimal estimated diameter (km)  \\\n",
              "0     3146499   (2003 AF23)                         0.166938   \n",
              "1     3536591    (2010 NG1)                         0.232571   \n",
              "2     3618492   (2012 WQ10)                         0.077367   \n",
              "3     3744790     (2016 DL)                         0.143402   \n",
              "4     3763953    (2016 WH1)                         0.025384   \n",
              "\n",
              "   Absolute magnitude  Relative velocity (km/s)  \n",
              "0               21.01                 29.975410  \n",
              "1               20.29                 18.609570  \n",
              "2               22.68                 15.041443  \n",
              "3               21.34                 20.200583  \n",
              "4               25.10                 15.981936  "
            ],
            "text/html": [
              "\n",
              "  <div id=\"df-846f27d4-9570-4fc0-bd2f-5efb3cfe17bc\" class=\"colab-df-container\">\n",
              "    <div>\n",
              "<style scoped>\n",
              "    .dataframe tbody tr th:only-of-type {\n",
              "        vertical-align: middle;\n",
              "    }\n",
              "\n",
              "    .dataframe tbody tr th {\n",
              "        vertical-align: top;\n",
              "    }\n",
              "\n",
              "    .dataframe thead th {\n",
              "        text-align: right;\n",
              "    }\n",
              "</style>\n",
              "<table border=\"1\" class=\"dataframe\">\n",
              "  <thead>\n",
              "    <tr style=\"text-align: right;\">\n",
              "      <th></th>\n",
              "      <th>Asteroid ID</th>\n",
              "      <th>Asteroid name</th>\n",
              "      <th>Minimal estimated diameter (km)</th>\n",
              "      <th>Absolute magnitude</th>\n",
              "      <th>Relative velocity (km/s)</th>\n",
              "    </tr>\n",
              "  </thead>\n",
              "  <tbody>\n",
              "    <tr>\n",
              "      <th>0</th>\n",
              "      <td>3146499</td>\n",
              "      <td>(2003 AF23)</td>\n",
              "      <td>0.166938</td>\n",
              "      <td>21.01</td>\n",
              "      <td>29.975410</td>\n",
              "    </tr>\n",
              "    <tr>\n",
              "      <th>1</th>\n",
              "      <td>3536591</td>\n",
              "      <td>(2010 NG1)</td>\n",
              "      <td>0.232571</td>\n",
              "      <td>20.29</td>\n",
              "      <td>18.609570</td>\n",
              "    </tr>\n",
              "    <tr>\n",
              "      <th>2</th>\n",
              "      <td>3618492</td>\n",
              "      <td>(2012 WQ10)</td>\n",
              "      <td>0.077367</td>\n",
              "      <td>22.68</td>\n",
              "      <td>15.041443</td>\n",
              "    </tr>\n",
              "    <tr>\n",
              "      <th>3</th>\n",
              "      <td>3744790</td>\n",
              "      <td>(2016 DL)</td>\n",
              "      <td>0.143402</td>\n",
              "      <td>21.34</td>\n",
              "      <td>20.200583</td>\n",
              "    </tr>\n",
              "    <tr>\n",
              "      <th>4</th>\n",
              "      <td>3763953</td>\n",
              "      <td>(2016 WH1)</td>\n",
              "      <td>0.025384</td>\n",
              "      <td>25.10</td>\n",
              "      <td>15.981936</td>\n",
              "    </tr>\n",
              "  </tbody>\n",
              "</table>\n",
              "</div>\n",
              "    <div class=\"colab-df-buttons\">\n",
              "\n",
              "  <div class=\"colab-df-container\">\n",
              "    <button class=\"colab-df-convert\" onclick=\"convertToInteractive('df-846f27d4-9570-4fc0-bd2f-5efb3cfe17bc')\"\n",
              "            title=\"Convert this dataframe to an interactive table.\"\n",
              "            style=\"display:none;\">\n",
              "\n",
              "  <svg xmlns=\"http://www.w3.org/2000/svg\" height=\"24px\" viewBox=\"0 -960 960 960\">\n",
              "    <path d=\"M120-120v-720h720v720H120Zm60-500h600v-160H180v160Zm220 220h160v-160H400v160Zm0 220h160v-160H400v160ZM180-400h160v-160H180v160Zm440 0h160v-160H620v160ZM180-180h160v-160H180v160Zm440 0h160v-160H620v160Z\"/>\n",
              "  </svg>\n",
              "    </button>\n",
              "\n",
              "  <style>\n",
              "    .colab-df-container {\n",
              "      display:flex;\n",
              "      gap: 12px;\n",
              "    }\n",
              "\n",
              "    .colab-df-convert {\n",
              "      background-color: #E8F0FE;\n",
              "      border: none;\n",
              "      border-radius: 50%;\n",
              "      cursor: pointer;\n",
              "      display: none;\n",
              "      fill: #1967D2;\n",
              "      height: 32px;\n",
              "      padding: 0 0 0 0;\n",
              "      width: 32px;\n",
              "    }\n",
              "\n",
              "    .colab-df-convert:hover {\n",
              "      background-color: #E2EBFA;\n",
              "      box-shadow: 0px 1px 2px rgba(60, 64, 67, 0.3), 0px 1px 3px 1px rgba(60, 64, 67, 0.15);\n",
              "      fill: #174EA6;\n",
              "    }\n",
              "\n",
              "    .colab-df-buttons div {\n",
              "      margin-bottom: 4px;\n",
              "    }\n",
              "\n",
              "    [theme=dark] .colab-df-convert {\n",
              "      background-color: #3B4455;\n",
              "      fill: #D2E3FC;\n",
              "    }\n",
              "\n",
              "    [theme=dark] .colab-df-convert:hover {\n",
              "      background-color: #434B5C;\n",
              "      box-shadow: 0px 1px 3px 1px rgba(0, 0, 0, 0.15);\n",
              "      filter: drop-shadow(0px 1px 2px rgba(0, 0, 0, 0.3));\n",
              "      fill: #FFFFFF;\n",
              "    }\n",
              "  </style>\n",
              "\n",
              "    <script>\n",
              "      const buttonEl =\n",
              "        document.querySelector('#df-846f27d4-9570-4fc0-bd2f-5efb3cfe17bc button.colab-df-convert');\n",
              "      buttonEl.style.display =\n",
              "        google.colab.kernel.accessAllowed ? 'block' : 'none';\n",
              "\n",
              "      async function convertToInteractive(key) {\n",
              "        const element = document.querySelector('#df-846f27d4-9570-4fc0-bd2f-5efb3cfe17bc');\n",
              "        const dataTable =\n",
              "          await google.colab.kernel.invokeFunction('convertToInteractive',\n",
              "                                                    [key], {});\n",
              "        if (!dataTable) return;\n",
              "\n",
              "        const docLinkHtml = 'Like what you see? Visit the ' +\n",
              "          '<a target=\"_blank\" href=https://colab.research.google.com/notebooks/data_table.ipynb>data table notebook</a>'\n",
              "          + ' to learn more about interactive tables.';\n",
              "        element.innerHTML = '';\n",
              "        dataTable['output_type'] = 'display_data';\n",
              "        await google.colab.output.renderOutput(dataTable, element);\n",
              "        const docLink = document.createElement('div');\n",
              "        docLink.innerHTML = docLinkHtml;\n",
              "        element.appendChild(docLink);\n",
              "      }\n",
              "    </script>\n",
              "  </div>\n",
              "\n",
              "\n",
              "<div id=\"df-992470a3-5dd6-4d31-a924-419863d4429d\">\n",
              "  <button class=\"colab-df-quickchart\" onclick=\"quickchart('df-992470a3-5dd6-4d31-a924-419863d4429d')\"\n",
              "            title=\"Suggest charts\"\n",
              "            style=\"display:none;\">\n",
              "\n",
              "<svg xmlns=\"http://www.w3.org/2000/svg\" height=\"24px\"viewBox=\"0 0 24 24\"\n",
              "     width=\"24px\">\n",
              "    <g>\n",
              "        <path d=\"M19 3H5c-1.1 0-2 .9-2 2v14c0 1.1.9 2 2 2h14c1.1 0 2-.9 2-2V5c0-1.1-.9-2-2-2zM9 17H7v-7h2v7zm4 0h-2V7h2v10zm4 0h-2v-4h2v4z\"/>\n",
              "    </g>\n",
              "</svg>\n",
              "  </button>\n",
              "\n",
              "<style>\n",
              "  .colab-df-quickchart {\n",
              "      --bg-color: #E8F0FE;\n",
              "      --fill-color: #1967D2;\n",
              "      --hover-bg-color: #E2EBFA;\n",
              "      --hover-fill-color: #174EA6;\n",
              "      --disabled-fill-color: #AAA;\n",
              "      --disabled-bg-color: #DDD;\n",
              "  }\n",
              "\n",
              "  [theme=dark] .colab-df-quickchart {\n",
              "      --bg-color: #3B4455;\n",
              "      --fill-color: #D2E3FC;\n",
              "      --hover-bg-color: #434B5C;\n",
              "      --hover-fill-color: #FFFFFF;\n",
              "      --disabled-bg-color: #3B4455;\n",
              "      --disabled-fill-color: #666;\n",
              "  }\n",
              "\n",
              "  .colab-df-quickchart {\n",
              "    background-color: var(--bg-color);\n",
              "    border: none;\n",
              "    border-radius: 50%;\n",
              "    cursor: pointer;\n",
              "    display: none;\n",
              "    fill: var(--fill-color);\n",
              "    height: 32px;\n",
              "    padding: 0;\n",
              "    width: 32px;\n",
              "  }\n",
              "\n",
              "  .colab-df-quickchart:hover {\n",
              "    background-color: var(--hover-bg-color);\n",
              "    box-shadow: 0 1px 2px rgba(60, 64, 67, 0.3), 0 1px 3px 1px rgba(60, 64, 67, 0.15);\n",
              "    fill: var(--button-hover-fill-color);\n",
              "  }\n",
              "\n",
              "  .colab-df-quickchart-complete:disabled,\n",
              "  .colab-df-quickchart-complete:disabled:hover {\n",
              "    background-color: var(--disabled-bg-color);\n",
              "    fill: var(--disabled-fill-color);\n",
              "    box-shadow: none;\n",
              "  }\n",
              "\n",
              "  .colab-df-spinner {\n",
              "    border: 2px solid var(--fill-color);\n",
              "    border-color: transparent;\n",
              "    border-bottom-color: var(--fill-color);\n",
              "    animation:\n",
              "      spin 1s steps(1) infinite;\n",
              "  }\n",
              "\n",
              "  @keyframes spin {\n",
              "    0% {\n",
              "      border-color: transparent;\n",
              "      border-bottom-color: var(--fill-color);\n",
              "      border-left-color: var(--fill-color);\n",
              "    }\n",
              "    20% {\n",
              "      border-color: transparent;\n",
              "      border-left-color: var(--fill-color);\n",
              "      border-top-color: var(--fill-color);\n",
              "    }\n",
              "    30% {\n",
              "      border-color: transparent;\n",
              "      border-left-color: var(--fill-color);\n",
              "      border-top-color: var(--fill-color);\n",
              "      border-right-color: var(--fill-color);\n",
              "    }\n",
              "    40% {\n",
              "      border-color: transparent;\n",
              "      border-right-color: var(--fill-color);\n",
              "      border-top-color: var(--fill-color);\n",
              "    }\n",
              "    60% {\n",
              "      border-color: transparent;\n",
              "      border-right-color: var(--fill-color);\n",
              "    }\n",
              "    80% {\n",
              "      border-color: transparent;\n",
              "      border-right-color: var(--fill-color);\n",
              "      border-bottom-color: var(--fill-color);\n",
              "    }\n",
              "    90% {\n",
              "      border-color: transparent;\n",
              "      border-bottom-color: var(--fill-color);\n",
              "    }\n",
              "  }\n",
              "</style>\n",
              "\n",
              "  <script>\n",
              "    async function quickchart(key) {\n",
              "      const quickchartButtonEl =\n",
              "        document.querySelector('#' + key + ' button');\n",
              "      quickchartButtonEl.disabled = true;  // To prevent multiple clicks.\n",
              "      quickchartButtonEl.classList.add('colab-df-spinner');\n",
              "      try {\n",
              "        const charts = await google.colab.kernel.invokeFunction(\n",
              "            'suggestCharts', [key], {});\n",
              "      } catch (error) {\n",
              "        console.error('Error during call to suggestCharts:', error);\n",
              "      }\n",
              "      quickchartButtonEl.classList.remove('colab-df-spinner');\n",
              "      quickchartButtonEl.classList.add('colab-df-quickchart-complete');\n",
              "    }\n",
              "    (() => {\n",
              "      let quickchartButtonEl =\n",
              "        document.querySelector('#df-992470a3-5dd6-4d31-a924-419863d4429d button');\n",
              "      quickchartButtonEl.style.display =\n",
              "        google.colab.kernel.accessAllowed ? 'block' : 'none';\n",
              "    })();\n",
              "  </script>\n",
              "</div>\n",
              "\n",
              "    </div>\n",
              "  </div>\n"
            ],
            "application/vnd.google.colaboratory.intrinsic+json": {
              "type": "dataframe",
              "variable_name": "df_asteroids",
              "summary": "{\n  \"name\": \"df_asteroids\",\n  \"rows\": 113,\n  \"fields\": [\n    {\n      \"column\": \"Asteroid ID\",\n      \"properties\": {\n        \"dtype\": \"string\",\n        \"num_unique_values\": 113,\n        \"samples\": [\n          \"54341644\",\n          \"3763953\",\n          \"3739391\"\n        ],\n        \"semantic_type\": \"\",\n        \"description\": \"\"\n      }\n    },\n    {\n      \"column\": \"Asteroid name\",\n      \"properties\": {\n        \"dtype\": \"string\",\n        \"num_unique_values\": 113,\n        \"samples\": [\n          \"(2023 CS3)\",\n          \"(2016 WH1)\",\n          \"(2016 AH65)\"\n        ],\n        \"semantic_type\": \"\",\n        \"description\": \"\"\n      }\n    },\n    {\n      \"column\": \"Minimal estimated diameter (km)\",\n      \"properties\": {\n        \"dtype\": \"number\",\n        \"std\": 0.15395375793343746,\n        \"min\": 0.0037372743,\n        \"max\": 1.3444819516,\n        \"num_unique_values\": 104,\n        \"samples\": [\n          0.0763053479,\n          0.2927891485,\n          0.4411182\n        ],\n        \"semantic_type\": \"\",\n        \"description\": \"\"\n      }\n    },\n    {\n      \"column\": \"Absolute magnitude\",\n      \"properties\": {\n        \"dtype\": \"number\",\n        \"std\": 2.4909552955860312,\n        \"min\": 16.48,\n        \"max\": 29.26,\n        \"num_unique_values\": 104,\n        \"samples\": [\n          22.71,\n          19.79,\n          18.9\n        ],\n        \"semantic_type\": \"\",\n        \"description\": \"\"\n      }\n    },\n    {\n      \"column\": \"Relative velocity (km/s)\",\n      \"properties\": {\n        \"dtype\": \"number\",\n        \"std\": 6.702209940696173,\n        \"min\": 1.4100851121,\n        \"max\": 33.06308275,\n        \"num_unique_values\": 113,\n        \"samples\": [\n          6.2823788524,\n          15.981936482,\n          13.6672436046\n        ],\n        \"semantic_type\": \"\",\n        \"description\": \"\"\n      }\n    }\n  ]\n}"
            }
          },
          "metadata": {},
          "execution_count": 7
        }
      ]
    },
    {
      "cell_type": "code",
      "source": [
        "# Export to CSV\n",
        "df_asteroids.to_csv('cleaned_asteroids_data.csv', index=False)\n"
      ],
      "metadata": {
        "id": "GJ_Eds_Q9ygI"
      },
      "execution_count": null,
      "outputs": []
    }
  ]
}