{
  "cells": [
    {
      "cell_type": "markdown",
      "metadata": {
        "id": "view-in-github",
        "colab_type": "text"
      },
      "source": [
        "<a href=\"https://colab.research.google.com/github/Suleymanabdy/Data-Science-Checkpoints./blob/main/Python_Data_Structures_Checkpoint_.ipynb\" target=\"_parent\"><img src=\"https://colab.research.google.com/assets/colab-badge.svg\" alt=\"Open In Colab\"/></a>"
      ]
    },
    {
      "cell_type": "code",
      "execution_count": null,
      "metadata": {
        "colab": {
          "background_save": true,
          "base_uri": "https://localhost:8080/"
        },
        "id": "YlPcrInO8-rJ",
        "outputId": "b6c3d550-2535-48af-dde6-9c183941b971"
      },
      "outputs": [
        {
          "name": "stdout",
          "output_type": "stream",
          "text": [
            "menu:\n",
            "1. add item\n",
            "2. remove item\n",
            "3. view items\n",
            "4. exit\n",
            "menu:\n",
            "1. add item\n",
            "2. remove item\n",
            "3. view items\n",
            "4. exit\n"
          ]
        }
      ],
      "source": [
        "shopping_list = []\n",
        "\n",
        "while True:\n",
        "    print(\"menu:\")\n",
        "    print(\"1. add item\")\n",
        "    print(\"2. remove item\")\n",
        "    print(\"3. view items\")\n",
        "    print(\"4. exit\")\n",
        "\n",
        "    choice = input(\"enter your choice:\")\n",
        "\n",
        "    if choice == \"1\":\n",
        "        if len(shopping_list) < 5:\n",
        "            item = input(\"enter the item to add:\")\n",
        "            shopping_list.append(item)\n",
        "        else:\n",
        "            print(\"you have reached the maximum limit for items.\")\n",
        "\n",
        "    elif choice == \"2\":\n",
        "        item = input(\"enter the item to remove:\")\n",
        "        if item in shopping_list:\n",
        "            shopping_list.remove(item)\n",
        "        else:\n",
        "            print(\"item not found in the list.\")\n",
        "\n",
        "    elif choice == \"3\":\n",
        "        print(\"shopping list:\")\n",
        "        for item in shopping_list:\n",
        "            print(item)\n",
        "\n",
        "    elif choice == \"4\":\n",
        "        print(\"exiting the shopping list app.\")\n",
        "        break\n",
        "\n",
        "    else:\n",
        "        print(\"invalid choice. please try again\")\n",
        "\n",
        "print(\"thank you for using the shopping list app.\")\n",
        "\n"
      ]
    },
    {
      "cell_type": "code",
      "execution_count": null,
      "metadata": {
        "id": "vD--iO_STGOE"
      },
      "outputs": [],
      "source": []
    }
  ],
  "metadata": {
    "colab": {
      "provenance": [],
      "authorship_tag": "ABX9TyPRD0l7Oy7PX61baaq5szeb",
      "include_colab_link": true
    },
    "kernelspec": {
      "display_name": "Python 3",
      "name": "python3"
    },
    "language_info": {
      "name": "python"
    }
  },
  "nbformat": 4,
  "nbformat_minor": 0
}