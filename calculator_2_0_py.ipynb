{
  "nbformat": 4,
  "nbformat_minor": 0,
  "metadata": {
    "colab": {
      "provenance": [],
      "authorship_tag": "ABX9TyMGuTHumaxPNzOFT2idZKEW",
      "include_colab_link": true
    },
    "kernelspec": {
      "name": "python3",
      "display_name": "Python 3"
    },
    "language_info": {
      "name": "python"
    }
  },
  "cells": [
    {
      "cell_type": "markdown",
      "metadata": {
        "id": "view-in-github",
        "colab_type": "text"
      },
      "source": [
        "<a href=\"https://colab.research.google.com/github/Suleymanabdy/Data-Science-Checkpoints./blob/main/calculator_2_0_py.ipynb\" target=\"_parent\"><img src=\"https://colab.research.google.com/assets/colab-badge.svg\" alt=\"Open In Colab\"/></a>"
      ]
    },
    {
      "cell_type": "code",
      "source": [
        "import math\n",
        "\n",
        "class Calculator:\n",
        "    def __init__(self):\n",
        "        self.operations = {'+': self.add, '-': self.subtract, '*': self.multiply, '/': self.divide}\n",
        "\n",
        "    def add_operation(self, symbol, func):\n",
        "        self.operations[symbol] = func\n",
        "\n",
        "    def calculate(self, num1, symbol, num2):\n",
        "        if not (isinstance(num1, (int, float)) and isinstance(num2, (int, float))):\n",
        "            raise ValueError(\"Both inputs must be numbers.\")\n",
        "\n",
        "        if symbol not in self.operations:\n",
        "            raise ValueError(\"Invalid operation symbol.\")\n",
        "\n",
        "        operation_func = self.operations[symbol]\n",
        "        result = operation_func(num1, num2)\n",
        "        return result\n",
        "\n",
        "    def add(self, a, b):\n",
        "        return a + b\n",
        "\n",
        "    def subtract(self, a, b):\n",
        "        return a - b\n",
        "\n",
        "    def multiply(self, a, b):\n",
        "        return a * b\n",
        "\n",
        "    def divide(self, a, b):\n",
        "        if b == 0:\n",
        "            raise ValueError(\"Cannot divide by zero.\")\n",
        "        return a / b\n",
        "\n",
        "# Additional functions for advanced mathematical operations\n",
        "def exponentiation(a, b):\n",
        "    return a ** b\n",
        "\n",
        "def square_root(a, _):\n",
        "    if a < 0:\n",
        "        raise ValueError(\"Cannot calculate square root of a negative number.\")\n",
        "    return math.sqrt(a)\n",
        "\n",
        "def logarithm(a, b):\n",
        "    if a <= 0 or b <= 0:\n",
        "        raise ValueError(\"Both arguments must be positive for logarithmic operation.\")\n",
        "    return math.log(a, b)\n",
        "\n",
        "# Main program\n",
        "calculator = Calculator()\n",
        "\n",
        "# Adding advanced mathematical operations to the calculator\n",
        "calculator.add_operation('**', exponentiation)\n",
        "calculator.add_operation('sqrt', square_root)\n",
        "calculator.add_operation('log', logarithm)\n",
        "\n",
        "while True:\n",
        "    try: #This line was not indented correctly\n",
        "        num1 = float(input(\"Enter the first number: \"))\n",
        "        symbol = input(\"Enter the operation symbol (+, -, *, /, **, sqrt, log): \")\n",
        "\n",
        "        # For operations that don't require a second number\n",
        "        if symbol in ['sqrt']:\n",
        "            result = calculator.calculate(num1, symbol, 0)  # Pass 0 as the second argument for sqrt\n",
        "        else:\n",
        "            num2 = float(input(\"Enter the second number: \"))\n",
        "            result = calculator.calculate(num1, symbol, num2)\n",
        "\n",
        "        print(f\"Result: {result}\")\n",
        "\n",
        "        # Ask if the user wants to continue or exit after the calculation\n",
        "        user_input = input(\"Do you want to continue or exit? (continue/exit): \").lower()\n",
        "        if user_input == 'exit':\n",
        "            print(\"Exiting the calculator. Thank You!\")\n",
        "            break\n",
        "\n",
        "    except ValueError as e: #This line was not indented correctly\n",
        "        print(f\"Error: {e}\")"
      ],
      "metadata": {
        "id": "YS3CnQb_7LqJ"
      },
      "execution_count": null,
      "outputs": []
    }
  ]
}